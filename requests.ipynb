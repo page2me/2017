{
  "nbformat": 4,
  "nbformat_minor": 0,
  "metadata": {
    "colab": {
      "name": "requests",
      "version": "0.3.2",
      "provenance": [],
      "include_colab_link": true
    },
    "kernelspec": {
      "name": "python3",
      "display_name": "Python 3"
    }
  },
  "cells": [
    {
      "cell_type": "markdown",
      "metadata": {
        "id": "view-in-github",
        "colab_type": "text"
      },
      "source": [
        "<a href=\"https://colab.research.google.com/github/page2me/2017/blob/master/requests.ipynb\" target=\"_parent\"><img src=\"https://colab.research.google.com/assets/colab-badge.svg\" alt=\"Open In Colab\"/></a>"
      ]
    },
    {
      "metadata": {
        "id": "q6R65O1z6TQ6",
        "colab_type": "code",
        "colab": {
          "base_uri": "https://localhost:8080/",
          "height": 34
        },
        "outputId": "666c9620-648d-455b-ed6a-327e1c92ad98"
      },
      "cell_type": "code",
      "source": [
        "import requests\n",
        "r = requests.get('https://hinaboshi.com')\n",
        "print(r) # ได้ "
      ],
      "execution_count": 1,
      "outputs": [
        {
          "output_type": "stream",
          "text": [
            "<Response [200]>\n"
          ],
          "name": "stdout"
        }
      ]
    },
    {
      "metadata": {
        "id": "z5rXKBDX-qz8",
        "colab_type": "code",
        "colab": {
          "base_uri": "https://localhost:8080/",
          "height": 1305
        },
        "outputId": "a41dc130-ff66-4ad2-ee0a-63af01048594"
      },
      "cell_type": "code",
      "source": [
        "print(r.text)"
      ],
      "execution_count": 7,
      "outputs": [
        {
          "output_type": "stream",
          "text": [
            "<!DOCTYPE html>\n",
            "<html ng-app=\"ang\">\n",
            "  <head>\n",
            "    <title>รวมคำแปลวลีเด็ดจากญี่ปุ่น :: hinaboshi~雛星</title>\n",
            "    <meta name=\"csrf-param\" content=\"authenticity_token\" />\n",
            "<meta name=\"csrf-token\" content=\"sNTSPyCflyUXUrQ2DSzzif9R/ViLPIQBnq5DCRuQ3zgAMNAv4hLF31Be5ifGzBwG+nOkbMDUUWHyj/UGewQsVg==\" />\n",
            "    <link rel=\"stylesheet\" media=\"all\" href=\"/assets/application-d229f6aab0ee94ef71e7e2b345932eb7a08a4d28eb8d9d714d6f3abf3e53530f.css\" data-turbolinks-track=\"reload\" />\n",
            "    <script src=\"/assets/application-af425f7fd3be5701379d78ea80ccfcd9d6072b476e3da819251d52fa701aba40.js\" data-turbolinks-track=\"reload\"></script>\n",
            "    <meta name=\"description\" content=\"รวมคำแปลวลีเด็ดจากญี่ปุ่นรวมคำแปลวลีเด็ดจากญี่ปุ่น ขณะนี้มีวลีเด็ดรวมทั้งหมด 3137\" />\n",
            "<link rel=\"canonical\" href=\"https://hinaboshi.com/\" />\n",
            "<meta property=\"og:url\" content=\"https://hinaboshi.com/\" />\n",
            "<meta property=\"og:type\" content=\"website\" />\n",
            "<meta property=\"og:description\" content=\"รวมคำแปลวลีเด็ดจากญี่ปุ่นรวมคำแปลวลีเด็ดจากญี่ปุ่น ขณะนี้มีวลีเด็ดรวมทั้งหมด 3137\" />\n",
            "<meta property=\"og:image\" content=\"https://hinaboshi.com/rup/rupprakopwalidet/1109281102423993.jpg\" />\n",
            "<meta property=\"og:site_name\" content=\"รวมคำแปลวลีเด็ดจากญี่ปุ่น :: 雛星\" />\n",
            "<meta property=\"og:locale\" content=\"th_TH\" />\n",
            "<meta property=\"og:locale:alternate\" content=\"ja_JP\" />\n",
            "<meta property=\"og:title\" content=\"รวมคำแปลวลีเด็ดจากญี่ปุ่น :: hinaboshi~雛星\" />\n",
            "<meta property=\"fb:app_id\" content=\"485047148536675\" />\n",
            "  </head>\n",
            "  <header id=\"huawal\">\n",
            "    <table>\n",
            "  <tr>\n",
            "    <td><a data-method=\"get\" href=\"/\">หน้าหลัก</a></td>\n",
            "    <td><a href=\"/animethangmot\">วลีเด็ด<br>จากอนิเมะ</a></td>\n",
            "    <td><a href=\"/gamethangmot\">วลีเด็ด<br>จากเกม</a></td>\n",
            "    <td><a href=\"/khondangthangmot\">วลีเด็ด<br>จากคนดัง</a></td>\n",
            "    <td><a href=\"/seiyuuthangmot\">นักพากย์<br>~~~</a></td>\n",
            "    <td><a href=\"/uenuen\">อื่นๆ<br>~~~</a></td>\n",
            "    <td><a href=\"/kiaokap\">เกี่ยวกับ<br>เว็บนี้</a></td>\n",
            "  </tr>\n",
            "</table>\n",
            "  </header>\n",
            "  <body id=\"wal\">\n",
            "    <script>\n",
            "  window.fbAsyncInit = function() {\n",
            "    FB.init({\n",
            "      appId      : '485047148536675',\n",
            "      xfbml      : true,\n",
            "      version    : 'v2.9'\n",
            "    });\n",
            "    FB.AppEvents.logPageView();\n",
            "  };\n",
            "\n",
            "  (function(d, s, id){\n",
            "     var js, fjs = d.getElementsByTagName(s)[0];\n",
            "     if (d.getElementById(id)) {return;}\n",
            "     js = d.createElement(s); js.id = id;\n",
            "     js.src = \"//connect.facebook.net/th_TH/sdk.js\";\n",
            "     fjs.parentNode.insertBefore(js, fjs);\n",
            "   }(document, 'script', 'facebook-jssdk'));\n",
            "</script>\n",
            "    <div id=\"lak\">\n",
            "      <p style=\"font-size: 36px;\" align=\"center\"><b>รวมคำแปลวลีเด็ดจากญี่ปุ่น</b></p>\n",
            "<p>ขณะนี้มีวลีเด็ดรวมทั้งหมด <span style=\"font-size: 36px; color: #f33;\">3137</span> วลีเด็ด</p>\n",
            "<p>2655 วลีเด็ด จาก<a href=\"/animethangmot\"><b>อนิเมะ</b></a> 681 เรื่อง</p>\n",
            "<a data-method=\"get\" href=\"/walidet/719253488093425\"><img src=\"/rup/rupprakopwalidet/719253488093425.jpg\" style=\"max-width:150px; max-height:150px;\"></a><a data-method=\"get\" href=\"/walidet/1192669610751808\"><img src=\"/rup/rupprakopwalidet/1192669610751808.jpg\" style=\"max-width:150px; max-height:150px;\"></a><a data-method=\"get\" href=\"/walidet/1307824575902977\"><img src=\"/rup/rupprakopwalidet/1307824575902977.jpg\" style=\"max-width:150px; max-height:150px;\"></a><a data-method=\"get\" href=\"/walidet/1486302134721886\"><img src=\"/rup/rupprakopwalidet/1486302134721886.jpg\" style=\"max-width:150px; max-height:150px;\"></a><a data-method=\"get\" href=\"/walidet/1910257368993025\"><img src=\"/rup/rupprakopwalidet/1910257368993025.jpg\" style=\"max-width:150px; max-height:150px;\"></a>\n",
            "<p>252 วลีเด็ด จาก<a href=\"/gamethangmot\"><b>เกม</b></a> 49 เกม</p>\n",
            "<a data-method=\"get\" href=\"/walidet/652995974719177\"><img src=\"/rup/rupprakopwalidet/652995974719177.jpg\" style=\"max-width:150px; max-height:150px;\"></a><a data-method=\"get\" href=\"/walidet/885145804837525\"><img src=\"/rup/rupprakopwalidet/885145804837525.jpg\" style=\"max-width:150px; max-height:150px;\"></a><a data-method=\"get\" href=\"/walidet/940030256015746\"><img src=\"/rup/rupprakopwalidet/940030256015746.jpg\" style=\"max-width:150px; max-height:150px;\"></a><a data-method=\"get\" href=\"/walidet/1053249521360485\"><img src=\"/rup/rupprakopwalidet/1053249521360485.jpg\" style=\"max-width:150px; max-height:150px;\"></a><a data-method=\"get\" href=\"/walidet/1318328634852571\"><img src=\"/rup/rupprakopwalidet/1318328634852571.jpg\" style=\"max-width:150px; max-height:150px;\"></a>\n",
            "<p>230 วลีเด็ด จาก<a href=\"/khondangthangmot\"><b>คนดัง</b></a> 133 คน</p>\n",
            "<a data-method=\"get\" href=\"/walidet/714445511907556\"><img src=\"/rup/rupprakopwalidet/714445511907556.jpg\" style=\"max-width:150px; max-height:150px;\"></a><a data-method=\"get\" href=\"/walidet/754682631217177\"><img src=\"/rup/rupprakopwalidet/754682631217177.jpg\" style=\"max-width:150px; max-height:150px;\"></a><a data-method=\"get\" href=\"/walidet/791858527499587\"><img src=\"/rup/rupprakopwalidet/791858527499587.jpg\" style=\"max-width:150px; max-height:150px;\"></a><a data-method=\"get\" href=\"/walidet/826306104054829\"><img src=\"/rup/rupprakopwalidet/826306104054829.jpg\" style=\"max-width:150px; max-height:150px;\"></a><a data-method=\"get\" href=\"/walidet/1158808087471294\"><img src=\"/rup/rupprakopwalidet/1158808087471294.jpg\" style=\"max-width:150px; max-height:150px;\"></a>\n",
            "<p>ข้อมูล<a href=\"/seiyuuthangmot\"><b>นักพากย์</b></a> 689 คน</p>\n",
            "<p>เพิ่มฐานข้อมูลครั้งล่าสุด 5 พฤศจิกายน 2018</p>\n",
            "<p>ปรับปรุงเว็บครั้งล่าสุด 10 มิถุนายน 2018</p>\n",
            "\n",
            "<p>เว็บนี้เป็นที่เก็บรวบรวมวลีเด็ดของเพจ <a target=\"_blank\" href=\"https://www.facebook.com/Animankyafu\">https://www.facebook.com/Animankyafu</a></p>\n",
            "\n",
            "<iframe src=\"//www.facebook.com/plugins/likebox.php?href=https%3A%2F%2Fwww.facebook.com%2Fanimankyafu&amp;width=700&amp;height=290&amp;colorscheme=light&amp;show_faces=true&amp;header=true&amp;stream=false&amp;show_border=true\" scrolling=\"no\" frameborder=\"0\" style=\"border:none; overflow:hidden; width:680px; height:290px;\" allowTransparency=\"true\"></iframe><br>\n",
            "<div class=\"fb-like\" data-share=\"true\" data-width=\"450\" data-show-faces=\"true\"></div>\n",
            "    </div>\n",
            "  </body>\n",
            "</html>\n",
            "\n"
          ],
          "name": "stdout"
        }
      ]
    },
    {
      "metadata": {
        "id": "YA-mGBsq-ySf",
        "colab_type": "code",
        "colab": {
          "base_uri": "https://localhost:8080/",
          "height": 34
        },
        "outputId": "91749de7-23e2-4752-ade6-b8f10f3a001b"
      },
      "cell_type": "code",
      "source": [
        "print(r.encoding) # ได้ utf-8"
      ],
      "execution_count": 3,
      "outputs": [
        {
          "output_type": "stream",
          "text": [
            "utf-8\n"
          ],
          "name": "stdout"
        }
      ]
    },
    {
      "metadata": {
        "id": "WkJTx0Sm-2cm",
        "colab_type": "code",
        "colab": {}
      },
      "cell_type": "code",
      "source": [
        "r.encoding = 'utf-8'"
      ],
      "execution_count": 0,
      "outputs": []
    },
    {
      "metadata": {
        "id": "zPj6FpVF-5ic",
        "colab_type": "code",
        "colab": {
          "base_uri": "https://localhost:8080/",
          "height": 54
        },
        "outputId": "cb3521db-3739-4ced-fcc1-41a7371c9dc2"
      },
      "cell_type": "code",
      "source": [
        "print(r.content)"
      ],
      "execution_count": 5,
      "outputs": [
        {
          "output_type": "stream",
          "text": [
            "b'<!DOCTYPE html>\\n<html ng-app=\"ang\">\\n  <head>\\n    <title>\\xe0\\xb8\\xa3\\xe0\\xb8\\xa7\\xe0\\xb8\\xa1\\xe0\\xb8\\x84\\xe0\\xb8\\xb3\\xe0\\xb9\\x81\\xe0\\xb8\\x9b\\xe0\\xb8\\xa5\\xe0\\xb8\\xa7\\xe0\\xb8\\xa5\\xe0\\xb8\\xb5\\xe0\\xb9\\x80\\xe0\\xb8\\x94\\xe0\\xb9\\x87\\xe0\\xb8\\x94\\xe0\\xb8\\x88\\xe0\\xb8\\xb2\\xe0\\xb8\\x81\\xe0\\xb8\\x8d\\xe0\\xb8\\xb5\\xe0\\xb9\\x88\\xe0\\xb8\\x9b\\xe0\\xb8\\xb8\\xe0\\xb9\\x88\\xe0\\xb8\\x99 :: hinaboshi~\\xe9\\x9b\\x9b\\xe6\\x98\\x9f</title>\\n    <meta name=\"csrf-param\" content=\"authenticity_token\" />\\n<meta name=\"csrf-token\" content=\"sNTSPyCflyUXUrQ2DSzzif9R/ViLPIQBnq5DCRuQ3zgAMNAv4hLF31Be5ifGzBwG+nOkbMDUUWHyj/UGewQsVg==\" />\\n    <link rel=\"stylesheet\" media=\"all\" href=\"/assets/application-d229f6aab0ee94ef71e7e2b345932eb7a08a4d28eb8d9d714d6f3abf3e53530f.css\" data-turbolinks-track=\"reload\" />\\n    <script src=\"/assets/application-af425f7fd3be5701379d78ea80ccfcd9d6072b476e3da819251d52fa701aba40.js\" data-turbolinks-track=\"reload\"></script>\\n    <meta name=\"description\" content=\"\\xe0\\xb8\\xa3\\xe0\\xb8\\xa7\\xe0\\xb8\\xa1\\xe0\\xb8\\x84\\xe0\\xb8\\xb3\\xe0\\xb9\\x81\\xe0\\xb8\\x9b\\xe0\\xb8\\xa5\\xe0\\xb8\\xa7\\xe0\\xb8\\xa5\\xe0\\xb8\\xb5\\xe0\\xb9\\x80\\xe0\\xb8\\x94\\xe0\\xb9\\x87\\xe0\\xb8\\x94\\xe0\\xb8\\x88\\xe0\\xb8\\xb2\\xe0\\xb8\\x81\\xe0\\xb8\\x8d\\xe0\\xb8\\xb5\\xe0\\xb9\\x88\\xe0\\xb8\\x9b\\xe0\\xb8\\xb8\\xe0\\xb9\\x88\\xe0\\xb8\\x99\\xe0\\xb8\\xa3\\xe0\\xb8\\xa7\\xe0\\xb8\\xa1\\xe0\\xb8\\x84\\xe0\\xb8\\xb3\\xe0\\xb9\\x81\\xe0\\xb8\\x9b\\xe0\\xb8\\xa5\\xe0\\xb8\\xa7\\xe0\\xb8\\xa5\\xe0\\xb8\\xb5\\xe0\\xb9\\x80\\xe0\\xb8\\x94\\xe0\\xb9\\x87\\xe0\\xb8\\x94\\xe0\\xb8\\x88\\xe0\\xb8\\xb2\\xe0\\xb8\\x81\\xe0\\xb8\\x8d\\xe0\\xb8\\xb5\\xe0\\xb9\\x88\\xe0\\xb8\\x9b\\xe0\\xb8\\xb8\\xe0\\xb9\\x88\\xe0\\xb8\\x99 \\xe0\\xb8\\x82\\xe0\\xb8\\x93\\xe0\\xb8\\xb0\\xe0\\xb8\\x99\\xe0\\xb8\\xb5\\xe0\\xb9\\x89\\xe0\\xb8\\xa1\\xe0\\xb8\\xb5\\xe0\\xb8\\xa7\\xe0\\xb8\\xa5\\xe0\\xb8\\xb5\\xe0\\xb9\\x80\\xe0\\xb8\\x94\\xe0\\xb9\\x87\\xe0\\xb8\\x94\\xe0\\xb8\\xa3\\xe0\\xb8\\xa7\\xe0\\xb8\\xa1\\xe0\\xb8\\x97\\xe0\\xb8\\xb1\\xe0\\xb9\\x89\\xe0\\xb8\\x87\\xe0\\xb8\\xab\\xe0\\xb8\\xa1\\xe0\\xb8\\x94 3137\" />\\n<link rel=\"canonical\" href=\"https://hinaboshi.com/\" />\\n<meta property=\"og:url\" content=\"https://hinaboshi.com/\" />\\n<meta property=\"og:type\" content=\"website\" />\\n<meta property=\"og:description\" content=\"\\xe0\\xb8\\xa3\\xe0\\xb8\\xa7\\xe0\\xb8\\xa1\\xe0\\xb8\\x84\\xe0\\xb8\\xb3\\xe0\\xb9\\x81\\xe0\\xb8\\x9b\\xe0\\xb8\\xa5\\xe0\\xb8\\xa7\\xe0\\xb8\\xa5\\xe0\\xb8\\xb5\\xe0\\xb9\\x80\\xe0\\xb8\\x94\\xe0\\xb9\\x87\\xe0\\xb8\\x94\\xe0\\xb8\\x88\\xe0\\xb8\\xb2\\xe0\\xb8\\x81\\xe0\\xb8\\x8d\\xe0\\xb8\\xb5\\xe0\\xb9\\x88\\xe0\\xb8\\x9b\\xe0\\xb8\\xb8\\xe0\\xb9\\x88\\xe0\\xb8\\x99\\xe0\\xb8\\xa3\\xe0\\xb8\\xa7\\xe0\\xb8\\xa1\\xe0\\xb8\\x84\\xe0\\xb8\\xb3\\xe0\\xb9\\x81\\xe0\\xb8\\x9b\\xe0\\xb8\\xa5\\xe0\\xb8\\xa7\\xe0\\xb8\\xa5\\xe0\\xb8\\xb5\\xe0\\xb9\\x80\\xe0\\xb8\\x94\\xe0\\xb9\\x87\\xe0\\xb8\\x94\\xe0\\xb8\\x88\\xe0\\xb8\\xb2\\xe0\\xb8\\x81\\xe0\\xb8\\x8d\\xe0\\xb8\\xb5\\xe0\\xb9\\x88\\xe0\\xb8\\x9b\\xe0\\xb8\\xb8\\xe0\\xb9\\x88\\xe0\\xb8\\x99 \\xe0\\xb8\\x82\\xe0\\xb8\\x93\\xe0\\xb8\\xb0\\xe0\\xb8\\x99\\xe0\\xb8\\xb5\\xe0\\xb9\\x89\\xe0\\xb8\\xa1\\xe0\\xb8\\xb5\\xe0\\xb8\\xa7\\xe0\\xb8\\xa5\\xe0\\xb8\\xb5\\xe0\\xb9\\x80\\xe0\\xb8\\x94\\xe0\\xb9\\x87\\xe0\\xb8\\x94\\xe0\\xb8\\xa3\\xe0\\xb8\\xa7\\xe0\\xb8\\xa1\\xe0\\xb8\\x97\\xe0\\xb8\\xb1\\xe0\\xb9\\x89\\xe0\\xb8\\x87\\xe0\\xb8\\xab\\xe0\\xb8\\xa1\\xe0\\xb8\\x94 3137\" />\\n<meta property=\"og:image\" content=\"https://hinaboshi.com/rup/rupprakopwalidet/1109281102423993.jpg\" />\\n<meta property=\"og:site_name\" content=\"\\xe0\\xb8\\xa3\\xe0\\xb8\\xa7\\xe0\\xb8\\xa1\\xe0\\xb8\\x84\\xe0\\xb8\\xb3\\xe0\\xb9\\x81\\xe0\\xb8\\x9b\\xe0\\xb8\\xa5\\xe0\\xb8\\xa7\\xe0\\xb8\\xa5\\xe0\\xb8\\xb5\\xe0\\xb9\\x80\\xe0\\xb8\\x94\\xe0\\xb9\\x87\\xe0\\xb8\\x94\\xe0\\xb8\\x88\\xe0\\xb8\\xb2\\xe0\\xb8\\x81\\xe0\\xb8\\x8d\\xe0\\xb8\\xb5\\xe0\\xb9\\x88\\xe0\\xb8\\x9b\\xe0\\xb8\\xb8\\xe0\\xb9\\x88\\xe0\\xb8\\x99 :: \\xe9\\x9b\\x9b\\xe6\\x98\\x9f\" />\\n<meta property=\"og:locale\" content=\"th_TH\" />\\n<meta property=\"og:locale:alternate\" content=\"ja_JP\" />\\n<meta property=\"og:title\" content=\"\\xe0\\xb8\\xa3\\xe0\\xb8\\xa7\\xe0\\xb8\\xa1\\xe0\\xb8\\x84\\xe0\\xb8\\xb3\\xe0\\xb9\\x81\\xe0\\xb8\\x9b\\xe0\\xb8\\xa5\\xe0\\xb8\\xa7\\xe0\\xb8\\xa5\\xe0\\xb8\\xb5\\xe0\\xb9\\x80\\xe0\\xb8\\x94\\xe0\\xb9\\x87\\xe0\\xb8\\x94\\xe0\\xb8\\x88\\xe0\\xb8\\xb2\\xe0\\xb8\\x81\\xe0\\xb8\\x8d\\xe0\\xb8\\xb5\\xe0\\xb9\\x88\\xe0\\xb8\\x9b\\xe0\\xb8\\xb8\\xe0\\xb9\\x88\\xe0\\xb8\\x99 :: hinaboshi~\\xe9\\x9b\\x9b\\xe6\\x98\\x9f\" />\\n<meta property=\"fb:app_id\" content=\"485047148536675\" />\\n  </head>\\n  <header id=\"huawal\">\\n    <table>\\n  <tr>\\n    <td><a data-method=\"get\" href=\"/\">\\xe0\\xb8\\xab\\xe0\\xb8\\x99\\xe0\\xb9\\x89\\xe0\\xb8\\xb2\\xe0\\xb8\\xab\\xe0\\xb8\\xa5\\xe0\\xb8\\xb1\\xe0\\xb8\\x81</a></td>\\n    <td><a href=\"/animethangmot\">\\xe0\\xb8\\xa7\\xe0\\xb8\\xa5\\xe0\\xb8\\xb5\\xe0\\xb9\\x80\\xe0\\xb8\\x94\\xe0\\xb9\\x87\\xe0\\xb8\\x94<br>\\xe0\\xb8\\x88\\xe0\\xb8\\xb2\\xe0\\xb8\\x81\\xe0\\xb8\\xad\\xe0\\xb8\\x99\\xe0\\xb8\\xb4\\xe0\\xb9\\x80\\xe0\\xb8\\xa1\\xe0\\xb8\\xb0</a></td>\\n    <td><a href=\"/gamethangmot\">\\xe0\\xb8\\xa7\\xe0\\xb8\\xa5\\xe0\\xb8\\xb5\\xe0\\xb9\\x80\\xe0\\xb8\\x94\\xe0\\xb9\\x87\\xe0\\xb8\\x94<br>\\xe0\\xb8\\x88\\xe0\\xb8\\xb2\\xe0\\xb8\\x81\\xe0\\xb9\\x80\\xe0\\xb8\\x81\\xe0\\xb8\\xa1</a></td>\\n    <td><a href=\"/khondangthangmot\">\\xe0\\xb8\\xa7\\xe0\\xb8\\xa5\\xe0\\xb8\\xb5\\xe0\\xb9\\x80\\xe0\\xb8\\x94\\xe0\\xb9\\x87\\xe0\\xb8\\x94<br>\\xe0\\xb8\\x88\\xe0\\xb8\\xb2\\xe0\\xb8\\x81\\xe0\\xb8\\x84\\xe0\\xb8\\x99\\xe0\\xb8\\x94\\xe0\\xb8\\xb1\\xe0\\xb8\\x87</a></td>\\n    <td><a href=\"/seiyuuthangmot\">\\xe0\\xb8\\x99\\xe0\\xb8\\xb1\\xe0\\xb8\\x81\\xe0\\xb8\\x9e\\xe0\\xb8\\xb2\\xe0\\xb8\\x81\\xe0\\xb8\\xa2\\xe0\\xb9\\x8c<br>~~~</a></td>\\n    <td><a href=\"/uenuen\">\\xe0\\xb8\\xad\\xe0\\xb8\\xb7\\xe0\\xb9\\x88\\xe0\\xb8\\x99\\xe0\\xb9\\x86<br>~~~</a></td>\\n    <td><a href=\"/kiaokap\">\\xe0\\xb9\\x80\\xe0\\xb8\\x81\\xe0\\xb8\\xb5\\xe0\\xb9\\x88\\xe0\\xb8\\xa2\\xe0\\xb8\\xa7\\xe0\\xb8\\x81\\xe0\\xb8\\xb1\\xe0\\xb8\\x9a<br>\\xe0\\xb9\\x80\\xe0\\xb8\\xa7\\xe0\\xb9\\x87\\xe0\\xb8\\x9a\\xe0\\xb8\\x99\\xe0\\xb8\\xb5\\xe0\\xb9\\x89</a></td>\\n  </tr>\\n</table>\\n  </header>\\n  <body id=\"wal\">\\n    <script>\\n  window.fbAsyncInit = function() {\\n    FB.init({\\n      appId      : \\'485047148536675\\',\\n      xfbml      : true,\\n      version    : \\'v2.9\\'\\n    });\\n    FB.AppEvents.logPageView();\\n  };\\n\\n  (function(d, s, id){\\n     var js, fjs = d.getElementsByTagName(s)[0];\\n     if (d.getElementById(id)) {return;}\\n     js = d.createElement(s); js.id = id;\\n     js.src = \"//connect.facebook.net/th_TH/sdk.js\";\\n     fjs.parentNode.insertBefore(js, fjs);\\n   }(document, \\'script\\', \\'facebook-jssdk\\'));\\n</script>\\n    <div id=\"lak\">\\n      <p style=\"font-size: 36px;\" align=\"center\"><b>\\xe0\\xb8\\xa3\\xe0\\xb8\\xa7\\xe0\\xb8\\xa1\\xe0\\xb8\\x84\\xe0\\xb8\\xb3\\xe0\\xb9\\x81\\xe0\\xb8\\x9b\\xe0\\xb8\\xa5\\xe0\\xb8\\xa7\\xe0\\xb8\\xa5\\xe0\\xb8\\xb5\\xe0\\xb9\\x80\\xe0\\xb8\\x94\\xe0\\xb9\\x87\\xe0\\xb8\\x94\\xe0\\xb8\\x88\\xe0\\xb8\\xb2\\xe0\\xb8\\x81\\xe0\\xb8\\x8d\\xe0\\xb8\\xb5\\xe0\\xb9\\x88\\xe0\\xb8\\x9b\\xe0\\xb8\\xb8\\xe0\\xb9\\x88\\xe0\\xb8\\x99</b></p>\\n<p>\\xe0\\xb8\\x82\\xe0\\xb8\\x93\\xe0\\xb8\\xb0\\xe0\\xb8\\x99\\xe0\\xb8\\xb5\\xe0\\xb9\\x89\\xe0\\xb8\\xa1\\xe0\\xb8\\xb5\\xe0\\xb8\\xa7\\xe0\\xb8\\xa5\\xe0\\xb8\\xb5\\xe0\\xb9\\x80\\xe0\\xb8\\x94\\xe0\\xb9\\x87\\xe0\\xb8\\x94\\xe0\\xb8\\xa3\\xe0\\xb8\\xa7\\xe0\\xb8\\xa1\\xe0\\xb8\\x97\\xe0\\xb8\\xb1\\xe0\\xb9\\x89\\xe0\\xb8\\x87\\xe0\\xb8\\xab\\xe0\\xb8\\xa1\\xe0\\xb8\\x94 <span style=\"font-size: 36px; color: #f33;\">3137</span> \\xe0\\xb8\\xa7\\xe0\\xb8\\xa5\\xe0\\xb8\\xb5\\xe0\\xb9\\x80\\xe0\\xb8\\x94\\xe0\\xb9\\x87\\xe0\\xb8\\x94</p>\\n<p>2655 \\xe0\\xb8\\xa7\\xe0\\xb8\\xa5\\xe0\\xb8\\xb5\\xe0\\xb9\\x80\\xe0\\xb8\\x94\\xe0\\xb9\\x87\\xe0\\xb8\\x94 \\xe0\\xb8\\x88\\xe0\\xb8\\xb2\\xe0\\xb8\\x81<a href=\"/animethangmot\"><b>\\xe0\\xb8\\xad\\xe0\\xb8\\x99\\xe0\\xb8\\xb4\\xe0\\xb9\\x80\\xe0\\xb8\\xa1\\xe0\\xb8\\xb0</b></a> 681 \\xe0\\xb9\\x80\\xe0\\xb8\\xa3\\xe0\\xb8\\xb7\\xe0\\xb9\\x88\\xe0\\xb8\\xad\\xe0\\xb8\\x87</p>\\n<a data-method=\"get\" href=\"/walidet/719253488093425\"><img src=\"/rup/rupprakopwalidet/719253488093425.jpg\" style=\"max-width:150px; max-height:150px;\"></a><a data-method=\"get\" href=\"/walidet/1192669610751808\"><img src=\"/rup/rupprakopwalidet/1192669610751808.jpg\" style=\"max-width:150px; max-height:150px;\"></a><a data-method=\"get\" href=\"/walidet/1307824575902977\"><img src=\"/rup/rupprakopwalidet/1307824575902977.jpg\" style=\"max-width:150px; max-height:150px;\"></a><a data-method=\"get\" href=\"/walidet/1486302134721886\"><img src=\"/rup/rupprakopwalidet/1486302134721886.jpg\" style=\"max-width:150px; max-height:150px;\"></a><a data-method=\"get\" href=\"/walidet/1910257368993025\"><img src=\"/rup/rupprakopwalidet/1910257368993025.jpg\" style=\"max-width:150px; max-height:150px;\"></a>\\n<p>252 \\xe0\\xb8\\xa7\\xe0\\xb8\\xa5\\xe0\\xb8\\xb5\\xe0\\xb9\\x80\\xe0\\xb8\\x94\\xe0\\xb9\\x87\\xe0\\xb8\\x94 \\xe0\\xb8\\x88\\xe0\\xb8\\xb2\\xe0\\xb8\\x81<a href=\"/gamethangmot\"><b>\\xe0\\xb9\\x80\\xe0\\xb8\\x81\\xe0\\xb8\\xa1</b></a> 49 \\xe0\\xb9\\x80\\xe0\\xb8\\x81\\xe0\\xb8\\xa1</p>\\n<a data-method=\"get\" href=\"/walidet/652995974719177\"><img src=\"/rup/rupprakopwalidet/652995974719177.jpg\" style=\"max-width:150px; max-height:150px;\"></a><a data-method=\"get\" href=\"/walidet/885145804837525\"><img src=\"/rup/rupprakopwalidet/885145804837525.jpg\" style=\"max-width:150px; max-height:150px;\"></a><a data-method=\"get\" href=\"/walidet/940030256015746\"><img src=\"/rup/rupprakopwalidet/940030256015746.jpg\" style=\"max-width:150px; max-height:150px;\"></a><a data-method=\"get\" href=\"/walidet/1053249521360485\"><img src=\"/rup/rupprakopwalidet/1053249521360485.jpg\" style=\"max-width:150px; max-height:150px;\"></a><a data-method=\"get\" href=\"/walidet/1318328634852571\"><img src=\"/rup/rupprakopwalidet/1318328634852571.jpg\" style=\"max-width:150px; max-height:150px;\"></a>\\n<p>230 \\xe0\\xb8\\xa7\\xe0\\xb8\\xa5\\xe0\\xb8\\xb5\\xe0\\xb9\\x80\\xe0\\xb8\\x94\\xe0\\xb9\\x87\\xe0\\xb8\\x94 \\xe0\\xb8\\x88\\xe0\\xb8\\xb2\\xe0\\xb8\\x81<a href=\"/khondangthangmot\"><b>\\xe0\\xb8\\x84\\xe0\\xb8\\x99\\xe0\\xb8\\x94\\xe0\\xb8\\xb1\\xe0\\xb8\\x87</b></a> 133 \\xe0\\xb8\\x84\\xe0\\xb8\\x99</p>\\n<a data-method=\"get\" href=\"/walidet/714445511907556\"><img src=\"/rup/rupprakopwalidet/714445511907556.jpg\" style=\"max-width:150px; max-height:150px;\"></a><a data-method=\"get\" href=\"/walidet/754682631217177\"><img src=\"/rup/rupprakopwalidet/754682631217177.jpg\" style=\"max-width:150px; max-height:150px;\"></a><a data-method=\"get\" href=\"/walidet/791858527499587\"><img src=\"/rup/rupprakopwalidet/791858527499587.jpg\" style=\"max-width:150px; max-height:150px;\"></a><a data-method=\"get\" href=\"/walidet/826306104054829\"><img src=\"/rup/rupprakopwalidet/826306104054829.jpg\" style=\"max-width:150px; max-height:150px;\"></a><a data-method=\"get\" href=\"/walidet/1158808087471294\"><img src=\"/rup/rupprakopwalidet/1158808087471294.jpg\" style=\"max-width:150px; max-height:150px;\"></a>\\n<p>\\xe0\\xb8\\x82\\xe0\\xb9\\x89\\xe0\\xb8\\xad\\xe0\\xb8\\xa1\\xe0\\xb8\\xb9\\xe0\\xb8\\xa5<a href=\"/seiyuuthangmot\"><b>\\xe0\\xb8\\x99\\xe0\\xb8\\xb1\\xe0\\xb8\\x81\\xe0\\xb8\\x9e\\xe0\\xb8\\xb2\\xe0\\xb8\\x81\\xe0\\xb8\\xa2\\xe0\\xb9\\x8c</b></a> 689 \\xe0\\xb8\\x84\\xe0\\xb8\\x99</p>\\n<p>\\xe0\\xb9\\x80\\xe0\\xb8\\x9e\\xe0\\xb8\\xb4\\xe0\\xb9\\x88\\xe0\\xb8\\xa1\\xe0\\xb8\\x90\\xe0\\xb8\\xb2\\xe0\\xb8\\x99\\xe0\\xb8\\x82\\xe0\\xb9\\x89\\xe0\\xb8\\xad\\xe0\\xb8\\xa1\\xe0\\xb8\\xb9\\xe0\\xb8\\xa5\\xe0\\xb8\\x84\\xe0\\xb8\\xa3\\xe0\\xb8\\xb1\\xe0\\xb9\\x89\\xe0\\xb8\\x87\\xe0\\xb8\\xa5\\xe0\\xb9\\x88\\xe0\\xb8\\xb2\\xe0\\xb8\\xaa\\xe0\\xb8\\xb8\\xe0\\xb8\\x94 5 \\xe0\\xb8\\x9e\\xe0\\xb8\\xa4\\xe0\\xb8\\xa8\\xe0\\xb8\\x88\\xe0\\xb8\\xb4\\xe0\\xb8\\x81\\xe0\\xb8\\xb2\\xe0\\xb8\\xa2\\xe0\\xb8\\x99 2018</p>\\n<p>\\xe0\\xb8\\x9b\\xe0\\xb8\\xa3\\xe0\\xb8\\xb1\\xe0\\xb8\\x9a\\xe0\\xb8\\x9b\\xe0\\xb8\\xa3\\xe0\\xb8\\xb8\\xe0\\xb8\\x87\\xe0\\xb9\\x80\\xe0\\xb8\\xa7\\xe0\\xb9\\x87\\xe0\\xb8\\x9a\\xe0\\xb8\\x84\\xe0\\xb8\\xa3\\xe0\\xb8\\xb1\\xe0\\xb9\\x89\\xe0\\xb8\\x87\\xe0\\xb8\\xa5\\xe0\\xb9\\x88\\xe0\\xb8\\xb2\\xe0\\xb8\\xaa\\xe0\\xb8\\xb8\\xe0\\xb8\\x94 10 \\xe0\\xb8\\xa1\\xe0\\xb8\\xb4\\xe0\\xb8\\x96\\xe0\\xb8\\xb8\\xe0\\xb8\\x99\\xe0\\xb8\\xb2\\xe0\\xb8\\xa2\\xe0\\xb8\\x99 2018</p>\\n\\n<p>\\xe0\\xb9\\x80\\xe0\\xb8\\xa7\\xe0\\xb9\\x87\\xe0\\xb8\\x9a\\xe0\\xb8\\x99\\xe0\\xb8\\xb5\\xe0\\xb9\\x89\\xe0\\xb9\\x80\\xe0\\xb8\\x9b\\xe0\\xb9\\x87\\xe0\\xb8\\x99\\xe0\\xb8\\x97\\xe0\\xb8\\xb5\\xe0\\xb9\\x88\\xe0\\xb9\\x80\\xe0\\xb8\\x81\\xe0\\xb9\\x87\\xe0\\xb8\\x9a\\xe0\\xb8\\xa3\\xe0\\xb8\\xa7\\xe0\\xb8\\x9a\\xe0\\xb8\\xa3\\xe0\\xb8\\xa7\\xe0\\xb8\\xa1\\xe0\\xb8\\xa7\\xe0\\xb8\\xa5\\xe0\\xb8\\xb5\\xe0\\xb9\\x80\\xe0\\xb8\\x94\\xe0\\xb9\\x87\\xe0\\xb8\\x94\\xe0\\xb8\\x82\\xe0\\xb8\\xad\\xe0\\xb8\\x87\\xe0\\xb9\\x80\\xe0\\xb8\\x9e\\xe0\\xb8\\x88 <a target=\"_blank\" href=\"https://www.facebook.com/Animankyafu\">https://www.facebook.com/Animankyafu</a></p>\\n\\n<iframe src=\"//www.facebook.com/plugins/likebox.php?href=https%3A%2F%2Fwww.facebook.com%2Fanimankyafu&amp;width=700&amp;height=290&amp;colorscheme=light&amp;show_faces=true&amp;header=true&amp;stream=false&amp;show_border=true\" scrolling=\"no\" frameborder=\"0\" style=\"border:none; overflow:hidden; width:680px; height:290px;\" allowTransparency=\"true\"></iframe><br>\\n<div class=\"fb-like\" data-share=\"true\" data-width=\"450\" data-show-faces=\"true\"></div>\\n    </div>\\n  </body>\\n</html>\\n'\n"
          ],
          "name": "stdout"
        }
      ]
    },
    {
      "metadata": {
        "id": "c0LLjERN-69v",
        "colab_type": "code",
        "colab": {
          "base_uri": "https://localhost:8080/",
          "height": 72
        },
        "outputId": "42772837-1634-4347-d7e3-3bd322952048"
      },
      "cell_type": "code",
      "source": [
        "print(r.headers)\n",
        "print(r.cookies)"
      ],
      "execution_count": 6,
      "outputs": [
        {
          "output_type": "stream",
          "text": [
            "{'Content-Type': 'text/html; charset=utf-8', 'Transfer-Encoding': 'chunked', 'Connection': 'keep-alive', 'Status': '200 OK', 'Cache-Control': 'max-age=0, private, must-revalidate', 'ETag': 'W/\"5c360e04f6ca76f83f7512d22a5567fc\"', 'X-Frame-Options': 'SAMEORIGIN, DENY', 'X-XSS-Protection': '1; mode=block', 'X-Content-Type-Options': 'nosniff, nosniff', 'X-Runtime': '0.400609', 'X-Request-Id': 'cd82c8c5-8aff-49e2-898b-84aa24fa3665', 'Date': 'Wed, 07 Nov 2018 21:02:01 GMT', 'Set-Cookie': '_amaya_session=92e35343a712d51db37c1ebc53dff13a; path=/; HttpOnly', 'X-Powered-By': 'Phusion Passenger 5.3.4', 'Server': 'nginx/1.14.0 + Phusion Passenger 5.3.4', 'Content-Encoding': 'gzip'}\n",
            "<RequestsCookieJar[<Cookie _amaya_session=92e35343a712d51db37c1ebc53dff13a for hinaboshi.com/>]>\n"
          ],
          "name": "stdout"
        }
      ]
    }
  ]
}